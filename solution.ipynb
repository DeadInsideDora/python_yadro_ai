{
  "cells": [
    {
      "cell_type": "markdown",
      "id": "e4d450c2",
      "metadata": {
        "id": "e4d450c2"
      },
      "source": [
        "# Символьное дифференцирование"
      ]
    },
    {
      "cell_type": "markdown",
      "id": "ca42b161",
      "metadata": {
        "ExecuteTime": {
          "end_time": "2024-11-12T17:23:33.620558Z",
          "start_time": "2024-11-12T17:23:33.612887Z"
        },
        "id": "ca42b161"
      },
      "source": [
        "## Порядок сдачи домашнего"
      ]
    },
    {
      "cell_type": "markdown",
      "id": "1ff1df47",
      "metadata": {
        "id": "1ff1df47"
      },
      "source": [
        "Под каждое домашнее вы создаете отдельную ветку куда вносите все изменения в рамках домашнего. Как только домашнее готово - создаете пулл реквест (обратите внимание что в пулл реквесте должны быть отражены все изменения в рамках домашнего). Ревьювера назначаете из таблицы - https://docs.google.com/spreadsheets/d/1vK6IgEqaqXniUJAQOOspiL_tx3EYTSXW1cUrMHAZFr8/edit?gid=0#gid=0\n",
        "Перед сдачей проверьте код, напишите тесты. Не забудьте про PEP8, например, с помощью flake8. Задание нужно делать в jupyter notebook.\n",
        "\n",
        "**Дедлайн - 18 ноября 10:00**"
      ]
    },
    {
      "cell_type": "markdown",
      "id": "f9fd13a2",
      "metadata": {
        "id": "f9fd13a2"
      },
      "source": [
        "Символьное дифференцирование это инструмент для автоматического вывода формул производных, который открывает возможности для анализа сложных функций, оптимизации процессов и работы с уравнениями. Мы уже на многих занятиях сталкивались с этой темой - давайте попробуем реализовать собственное!"
      ]
    },
    {
      "cell_type": "markdown",
      "id": "cf3ccecf",
      "metadata": {
        "id": "cf3ccecf"
      },
      "source": [
        "## Выражение"
      ]
    },
    {
      "cell_type": "markdown",
      "id": "096fa612",
      "metadata": {
        "id": "096fa612"
      },
      "source": [
        "Создадим основной класс `Expr`, от которого будут наследоваться различные типы выражений, такие как константы, переменные, суммы, произведения и другие. Класс должен содержать методы:\n",
        "* `__call__`, который будет вычислять значение выражения, используя переданный ему контекст (словарь, связывающий имена переменных с их значениями).\n",
        "* `d`, принимающий имя переменной, по которой требуется вычислить производную, и возвращающий выражение, представляющее производную по этой переменной.\n",
        "\n",
        "Эти методы нужно будет переопределить в каждом из подклассов для корректного выполнения операций."
      ]
    },
    {
      "cell_type": "code",
      "execution_count": 1,
      "id": "7c73322e",
      "metadata": {
        "ExecuteTime": {
          "end_time": "2024-11-12T16:51:15.514301Z",
          "start_time": "2024-11-12T16:51:15.489368Z"
        },
        "id": "7c73322e"
      },
      "outputs": [],
      "source": [
        "class Expr:\n",
        "    def __call__(self, **context):\n",
        "        pass\n",
        "\n",
        "    def d(self, wrt):\n",
        "        pass\n",
        "\n",
        "    def __neg__(self):\n",
        "        return Negate(self)\n",
        "\n",
        "    def __pos__(self):\n",
        "        return self\n",
        "\n",
        "    def __add__(self, other):\n",
        "        return Sum(self, other)\n",
        "\n",
        "    def __sub__(self, other):\n",
        "        return self + -other\n",
        "\n",
        "    def __mul__(self, other):\n",
        "        return Product(self, other)\n",
        "\n",
        "    def __truediv__(self, other):\n",
        "        return Fraction(self, other)"
      ]
    },
    {
      "cell_type": "markdown",
      "id": "1a3f58d5",
      "metadata": {
        "id": "1a3f58d5"
      },
      "source": [
        "Создайте классы для двух видов выражений: `Const`, представляющий константу, и` Var`, представляющий переменную. Чтобы упростить использование, вместо обращения к конструкторам этих классов, будем использовать их однобуквенные сокращённые обозначения.\n",
        "\n",
        "**Пример использования:**\n",
        "```python\n",
        "V = Var\n",
        "C = Const\n",
        "\n",
        "C(5)()\n",
        "5\n",
        "C(5).d(V(\"x\"))()\n",
        "0\n",
        "V(\"x\")(x=5)\n",
        "5\n",
        "V(\"x\").d(V(\"y\"))(x=5)\n",
        "0\n",
        "V(\"x\").d(V(\"x\"))(x=5)\n",
        "1\n",
        "```"
      ]
    },
    {
      "cell_type": "code",
      "execution_count": 2,
      "id": "aa4e32b4",
      "metadata": {
        "ExecuteTime": {
          "end_time": "2024-11-12T16:42:49.906141Z",
          "start_time": "2024-11-12T16:42:49.888604Z"
        },
        "id": "aa4e32b4"
      },
      "outputs": [],
      "source": [
        "class Const(Expr):\n",
        "    def __init__(self, value):\n",
        "        self.value = value\n",
        "\n",
        "    def __call__(self, **context):\n",
        "        return self.value\n",
        "\n",
        "    def d(self, wrt):\n",
        "        return Const(0)\n",
        "\n",
        "\n",
        "class Var(Expr):\n",
        "    def __init__(self, name):\n",
        "        self.name = name\n",
        "\n",
        "    def __call__(self, **context):\n",
        "        return context[self.name]\n",
        "\n",
        "    def d(self, wrt):\n",
        "        if wrt.name == self.name:\n",
        "            return Const(1)\n",
        "        return Const(0)"
      ]
    },
    {
      "cell_type": "code",
      "execution_count": 3,
      "id": "cecc8561",
      "metadata": {
        "id": "cecc8561"
      },
      "outputs": [],
      "source": [
        "V = Var\n",
        "C = Const"
      ]
    },
    {
      "cell_type": "code",
      "execution_count": 4,
      "id": "1e1fde43",
      "metadata": {
        "colab": {
          "base_uri": "https://localhost:8080/"
        },
        "id": "1e1fde43",
        "outputId": "dbdfc125-e348-4261-ebf1-1d70107c17cb"
      },
      "outputs": [
        {
          "data": {
            "text/plain": [
              "5"
            ]
          },
          "execution_count": 4,
          "metadata": {},
          "output_type": "execute_result"
        }
      ],
      "source": [
        "C(5)()"
      ]
    },
    {
      "cell_type": "code",
      "execution_count": 5,
      "id": "a7cacf65",
      "metadata": {
        "colab": {
          "base_uri": "https://localhost:8080/"
        },
        "id": "a7cacf65",
        "outputId": "b3d6e2ae-869c-46ae-8cbb-c14fbd2e2da0"
      },
      "outputs": [
        {
          "data": {
            "text/plain": [
              "0"
            ]
          },
          "execution_count": 5,
          "metadata": {},
          "output_type": "execute_result"
        }
      ],
      "source": [
        "C(5).d(V(\"x\"))()"
      ]
    },
    {
      "cell_type": "code",
      "execution_count": 6,
      "id": "7107eef3",
      "metadata": {
        "colab": {
          "base_uri": "https://localhost:8080/"
        },
        "id": "7107eef3",
        "outputId": "e17968aa-4fed-4e7d-cd27-de88fdd281bb"
      },
      "outputs": [
        {
          "data": {
            "text/plain": [
              "5"
            ]
          },
          "execution_count": 6,
          "metadata": {},
          "output_type": "execute_result"
        }
      ],
      "source": [
        "V(\"x\")(x=5)"
      ]
    },
    {
      "cell_type": "code",
      "execution_count": 7,
      "id": "75cedf69",
      "metadata": {
        "colab": {
          "base_uri": "https://localhost:8080/"
        },
        "id": "75cedf69",
        "outputId": "ded0cf9e-8ea6-422a-cee0-e0e44dd17fe8"
      },
      "outputs": [
        {
          "data": {
            "text/plain": [
              "0"
            ]
          },
          "execution_count": 7,
          "metadata": {},
          "output_type": "execute_result"
        }
      ],
      "source": [
        "V(\"x\").d(V(\"y\"))(x=5)"
      ]
    },
    {
      "cell_type": "code",
      "execution_count": 8,
      "id": "292d921b",
      "metadata": {
        "colab": {
          "base_uri": "https://localhost:8080/"
        },
        "id": "292d921b",
        "outputId": "12ed5d9d-abaa-44b4-a252-9ce5dce8fabc"
      },
      "outputs": [
        {
          "data": {
            "text/plain": [
              "1"
            ]
          },
          "execution_count": 8,
          "metadata": {},
          "output_type": "execute_result"
        }
      ],
      "source": [
        "V(\"x\").d(V(\"x\"))(x=5)"
      ]
    },
    {
      "cell_type": "markdown",
      "id": "4a4c72ce",
      "metadata": {
        "id": "4a4c72ce"
      },
      "source": [
        "## Бинарные операции"
      ]
    },
    {
      "cell_type": "markdown",
      "id": "f87be166",
      "metadata": {
        "id": "f87be166"
      },
      "source": [
        "Создайте классы для бинарных операций: `Sum`, `Product` и `Fraction`. Поскольку бинарные операции определяются двумя операндами, их конструктор будет одинаковым для всех этих классов. Поэтому его можно вынести в отдельный базовый класс, чтобы избежать дублирования кода."
      ]
    },
    {
      "cell_type": "code",
      "execution_count": 9,
      "id": "6aaf6b13",
      "metadata": {
        "ExecuteTime": {
          "end_time": "2024-11-12T16:51:24.856165Z",
          "start_time": "2024-11-12T16:51:24.844203Z"
        },
        "id": "6aaf6b13"
      },
      "outputs": [],
      "source": [
        "class BinOp(Expr):\n",
        "    def __init__(self, expr1, expr2):\n",
        "        self.expr1, self.expr2 = expr1, expr2"
      ]
    },
    {
      "cell_type": "markdown",
      "id": "3e335e95",
      "metadata": {
        "id": "3e335e95"
      },
      "source": [
        "Реализуйте `Sum` для суммирования, `Product` для умножения и `Fraction` для деления.\n",
        "\n",
        "**Пример использования:**\n",
        "\n",
        "```python\n",
        "Sum(V(\"x\"), Fraction(V(\"x\"), V(\"y\")))(x=5, y=2.5)\n",
        "7.0\n",
        "Fraction(Sum(C(5), V(\"y\")), Product(V(\"x\"), V(\"y\")))(x=1, y=2)\n",
        "3.5\n",
        "Fraction(Sum(C(5), V(\"y\")), Product(V(\"x\"), V(\"y\"))).d(V(\"x\"))(x=1, y=2)\n",
        "-3.5\n",
        "Fraction(Sum(C(5), V(\"y\")), Product(V(\"x\"), V(\"y\"))).d(V(\"y\"))(x=1, y=2)\n",
        "-1.25\n",
        "```"
      ]
    },
    {
      "cell_type": "code",
      "execution_count": 10,
      "id": "cc5c5599",
      "metadata": {
        "id": "cc5c5599"
      },
      "outputs": [],
      "source": [
        "class Sum(BinOp):\n",
        "    def __call__(self, **context):\n",
        "        return self.expr1(**context) + self.expr2(**context)\n",
        "\n",
        "    def d(self, wrt):\n",
        "        return Sum(self.expr1.d(wrt), self.expr2.d(wrt))\n",
        "\n",
        "\n",
        "class Product(BinOp):\n",
        "    def __call__(self, **context):\n",
        "        return self.expr1(**context) * self.expr2(**context)\n",
        "\n",
        "    def d(self, wrt):\n",
        "        return Sum(\n",
        "            Product(self.expr1.d(wrt), self.expr2),\n",
        "            Product(self.expr1, self.expr2.d(wrt))\n",
        "        )\n",
        "\n",
        "\n",
        "class Negate(Expr):\n",
        "    def __init__(self, expr):\n",
        "        self.expr = expr\n",
        "\n",
        "    def __call__(self, **context):\n",
        "        return -self.expr(**context)\n",
        "\n",
        "    def d(self, wrt):\n",
        "        return Negate(self.expr.d(wrt))\n",
        "\n",
        "\n",
        "class Fraction(BinOp):\n",
        "    def __call__(self, **context):\n",
        "        return self.expr1(**context) / self.expr2(**context)\n",
        "\n",
        "    def d(self, wrt):\n",
        "        return Fraction(\n",
        "            Sum(\n",
        "                Product(self.expr1.d(wrt), self.expr2),\n",
        "                Negate(Product(self.expr1, self.expr2.d(wrt)))\n",
        "            ),\n",
        "            Product(self.expr2, self.expr2)\n",
        "        )"
      ]
    },
    {
      "cell_type": "code",
      "execution_count": 11,
      "id": "f527e67b",
      "metadata": {
        "colab": {
          "base_uri": "https://localhost:8080/"
        },
        "id": "f527e67b",
        "outputId": "8874daa9-f43b-4fee-f595-05e556e99296"
      },
      "outputs": [
        {
          "data": {
            "text/plain": [
              "7.0"
            ]
          },
          "execution_count": 11,
          "metadata": {},
          "output_type": "execute_result"
        }
      ],
      "source": [
        "Sum(V(\"x\"), Fraction(V(\"x\"), V(\"y\")))(x=5, y=2.5)"
      ]
    },
    {
      "cell_type": "code",
      "execution_count": 12,
      "id": "b9204b3e",
      "metadata": {
        "colab": {
          "base_uri": "https://localhost:8080/"
        },
        "id": "b9204b3e",
        "outputId": "c10cdeed-8c1a-4ede-a126-f80e981841bd"
      },
      "outputs": [
        {
          "data": {
            "text/plain": [
              "3.5"
            ]
          },
          "execution_count": 12,
          "metadata": {},
          "output_type": "execute_result"
        }
      ],
      "source": [
        "Fraction(Sum(C(5), V(\"y\")), Product(V(\"x\"), V(\"y\")))(x=1, y=2)"
      ]
    },
    {
      "cell_type": "code",
      "execution_count": 13,
      "id": "6f4b8237",
      "metadata": {
        "colab": {
          "base_uri": "https://localhost:8080/"
        },
        "id": "6f4b8237",
        "outputId": "5491e675-ff83-414f-9a15-2b5c1794ee16"
      },
      "outputs": [
        {
          "data": {
            "text/plain": [
              "-3.5"
            ]
          },
          "execution_count": 13,
          "metadata": {},
          "output_type": "execute_result"
        }
      ],
      "source": [
        "Fraction(Sum(C(5), V(\"y\")), Product(V(\"x\"), V(\"y\"))).d(V(\"x\"))(x=1, y=2)"
      ]
    },
    {
      "cell_type": "code",
      "execution_count": 14,
      "id": "961fc00c",
      "metadata": {
        "colab": {
          "base_uri": "https://localhost:8080/"
        },
        "id": "961fc00c",
        "outputId": "ae04295a-6e03-419e-a1b8-8414d47ca533"
      },
      "outputs": [
        {
          "data": {
            "text/plain": [
              "-1.25"
            ]
          },
          "execution_count": 14,
          "metadata": {},
          "output_type": "execute_result"
        }
      ],
      "source": [
        "Fraction(Sum(C(5), V(\"y\")), Product(V(\"x\"), V(\"y\"))).d(V(\"y\"))(x=1, y=2)"
      ]
    },
    {
      "cell_type": "markdown",
      "id": "68648251",
      "metadata": {
        "id": "68648251"
      },
      "source": [
        "## Перегрузка операторов"
      ]
    },
    {
      "cell_type": "markdown",
      "id": "49be6b43",
      "metadata": {
        "ExecuteTime": {
          "end_time": "2024-11-12T16:56:10.954760Z",
          "start_time": "2024-11-12T16:56:10.934054Z"
        },
        "id": "49be6b43"
      },
      "source": [
        "Добавьте перегрузку операторов в базовых класс `Expr`. Обратите что в классах мы можем тоже заменить на использование операторов.\n",
        "```python  \n",
        "-e         e.__neg__()\n",
        "+e         e.__pos__()\n",
        "e1 + e2    e1.__add__(e2)\n",
        "e1 - e2    e1.__sub__(e2)\n",
        "e1 * e2    e1.__mul__(e2)\n",
        "e1 / e2    e1.__truediv__(e2)\n",
        "```\n",
        "\n",
        "**Пример использования:**\n",
        "\n",
        "```python\n",
        "(V(\"x\") * V(\"x\") / V(\"y\"))(x=5, y=2.5)\n",
        "10.0\n",
        "```"
      ]
    },
    {
      "cell_type": "code",
      "execution_count": 15,
      "id": "3ddfb19b",
      "metadata": {
        "colab": {
          "base_uri": "https://localhost:8080/"
        },
        "id": "3ddfb19b",
        "outputId": "2bcf4d97-2117-47c0-8f0e-8c21020e15ed"
      },
      "outputs": [
        {
          "data": {
            "text/plain": [
              "10.0"
            ]
          },
          "execution_count": 15,
          "metadata": {},
          "output_type": "execute_result"
        }
      ],
      "source": [
        "(V(\"x\") * V(\"x\") / V(\"y\"))(x=5, y=2.5)"
      ]
    },
    {
      "cell_type": "markdown",
      "id": "d8c4e847",
      "metadata": {
        "ExecuteTime": {
          "end_time": "2024-11-12T17:15:20.644716Z",
          "start_time": "2024-11-12T17:15:20.631450Z"
        },
        "id": "d8c4e847"
      },
      "source": [
        "## Метод Ньютона-Рафсона"
      ]
    },
    {
      "cell_type": "markdown",
      "id": "c2ff4b5b",
      "metadata": {
        "id": "c2ff4b5b"
      },
      "source": [
        "Напишите функцию `newton_raphson`, которая принимает дифференцируемую функцию  $f$  от переменной  $x$ , начальное приближение  $x_0$ , и положительное число  $\\epsilon$ , задающее точность вычислений. Функция должна возвращать значение  $x$ , при котором  $f(x)$  становится равным нулю. Метод Ньютона-Рафсона выполняет итеративный поиск корня функции  $f(x)$ , начиная с начального значения  $x_0$ , и использует правило  \n",
        "$$x_{n+1} = x_n - \\frac{f(x_n)}{f{\\prime}(x_n)}$$  \n",
        "для обновления  $x$  на каждом шаге. Итерации продолжаются до тех пор, пока условие остановки  $|x_{n+1} - x_n| \\leq \\epsilon$  не будет выполнено.\n",
        "\n",
        "**Пример использования:**\n",
        "\n",
        "```python\n",
        "x = Var(\"x\")\n",
        "f = Const(-5) * x * x * x * x * x + Const(3) * x + Const(2)\n",
        "zero = newton_raphson(f, 0.5, eps=1e-4)\n",
        "zero, f(x=zero)\n",
        "(1.000000000001132, -2.490496697760136e-11)\n",
        "```"
      ]
    },
    {
      "cell_type": "code",
      "execution_count": 18,
      "id": "5e185229",
      "metadata": {
        "id": "5e185229"
      },
      "outputs": [],
      "source": [
        "def find_next_x(expr, current_x):\n",
        "    return current_x - (expr / expr.d(V(\"x\")))(x=current_x)\n",
        "\n",
        "\n",
        "def newton_raphson(expr, x0, eps=1e-4):\n",
        "    current = x0\n",
        "    while True:\n",
        "        if abs(expr(x=current)) == 0:\n",
        "            return current\n",
        "        next_x = find_next_x(expr, current)\n",
        "        if abs(next_x - current) <= eps:\n",
        "            return next_x\n",
        "        current = next_x"
      ]
    },
    {
      "cell_type": "code",
      "execution_count": 19,
      "id": "a469f8a6",
      "metadata": {
        "colab": {
          "base_uri": "https://localhost:8080/"
        },
        "id": "a469f8a6",
        "outputId": "39e369e1-84b2-4c47-c7c2-4b5357a0ada9"
      },
      "outputs": [
        {
          "data": {
            "text/plain": [
              "(1.0000000000000653, -1.4384049507043528e-12)"
            ]
          },
          "execution_count": 19,
          "metadata": {},
          "output_type": "execute_result"
        }
      ],
      "source": [
        "x = Var(\"x\")\n",
        "f = Const(-5) * x * x * x * x * x + Const(3) * x + Const(2)\n",
        "zero = newton_raphson(f, 0.5, eps=1e-4)\n",
        "zero, f(x=zero)"
      ]
    }
  ],
  "metadata": {
    "colab": {
      "provenance": []
    },
    "kernelspec": {
      "display_name": "Python 3",
      "language": "python",
      "name": "python3"
    },
    "language_info": {
      "codemirror_mode": {
        "name": "ipython",
        "version": 3
      },
      "file_extension": ".py",
      "mimetype": "text/x-python",
      "name": "python",
      "nbconvert_exporter": "python",
      "pygments_lexer": "ipython3",
      "version": "3.9.6"
    }
  },
  "nbformat": 4,
  "nbformat_minor": 5
}

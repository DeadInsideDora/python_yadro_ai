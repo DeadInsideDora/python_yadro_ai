{
  "cells": [
    {
      "cell_type": "markdown",
      "id": "4feb6bdc",
      "metadata": {
        "id": "4feb6bdc"
      },
      "source": [
        "# Итераторы"
      ]
    },
    {
      "cell_type": "markdown",
      "id": "4b6631bd",
      "metadata": {
        "id": "4b6631bd"
      },
      "source": [
        "## Порядок сдачи домашнего"
      ]
    },
    {
      "cell_type": "markdown",
      "id": "bee4fcc0",
      "metadata": {
        "id": "bee4fcc0"
      },
      "source": [
        "Под каждое домашнее вы создаете отдельную ветку куда вносите все изменения в рамках домашнего. Как только домашнее готово - создаете пулл реквест (обратите внимание что в пулл реквесте должны быть отражены все изменения в рамках домашнего). Ревьювера назначаете из таблицы - https://docs.google.com/spreadsheets/d/1vK6IgEqaqXniUJAQOOspiL_tx3EYTSXW1cUrMHAZFr8/edit?gid=0#gid=0\n",
        "Перед сдачей проверьте код, напишите тесты. Не забудьте про PEP8, например, с помощью flake8. Задание нужно делать в jupyter notebook.\n",
        "\n",
        "**Дедлайн - 11 ноября 10:00**"
      ]
    },
    {
      "cell_type": "markdown",
      "id": "d777f71d",
      "metadata": {
        "ExecuteTime": {
          "end_time": "2024-11-03T13:46:28.412754Z",
          "start_time": "2024-11-03T13:46:28.400723Z"
        },
        "id": "d777f71d"
      },
      "source": [
        "## Итератор по цифрам"
      ]
    },
    {
      "cell_type": "markdown",
      "id": "0e691ab8",
      "metadata": {
        "id": "0e691ab8"
      },
      "source": [
        "Реализуйте класс-итератор `DigitIterator`, который принимает на вход целое число и позволяет итерироваться по его цифрам слева направо. На каждой итерации должна возвращаться следующая цифра числа.\n",
        "\n",
        "**Условия:**\n",
        "1.\tЧисло может быть как положительным, так и отрицательным.\n",
        "2.\tИтератор должен возвращать только цифры числа, без знака - для отрицательных чисел.\n",
        "3.\tИтерация должна быть возможна с помощью цикла for или функции next().\n",
        "\n",
        "**Пример использования:**\n",
        "\n",
        "```python\n",
        "iterator = DigitIterator(12345)\n",
        "for digit in iterator:\n",
        "    print(digit)\n",
        "# 1\n",
        "# 2\n",
        "# 3\n",
        "# 4\n",
        "# 5\n",
        "\n",
        "iterator = DigitIterator(-6789)\n",
        "for digit in iterator:\n",
        "    print(digit)\n",
        "\n",
        "# 6\n",
        "# 7\n",
        "# 8\n",
        "# 9\n",
        "```"
      ]
    },
    {
      "cell_type": "code",
      "execution_count": 21,
      "id": "8456ac6e",
      "metadata": {
        "colab": {
          "base_uri": "https://localhost:8080/"
        },
        "id": "8456ac6e",
        "outputId": "4fde7eaa-daea-464c-920b-ab639d6b580e"
      },
      "outputs": [
        {
          "output_type": "stream",
          "name": "stdout",
          "text": [
            "1\n",
            "2\n",
            "3\n",
            "4\n",
            "5\n"
          ]
        }
      ],
      "source": [
        "class DigitIterator:\n",
        "    def __init__(self, number):\n",
        "        self.number = []\n",
        "        number = abs(number)\n",
        "        length = len(str(number))\n",
        "        while length:\n",
        "            self.number.append(number % 10)\n",
        "            number //= 10\n",
        "            length -= 1\n",
        "\n",
        "    def __iter__(self):\n",
        "        return self\n",
        "\n",
        "    def __next__(self):\n",
        "        if self.number:\n",
        "            return self.number.pop()\n",
        "        raise StopIteration\n",
        "\n",
        "\n",
        "# Пример использования\n",
        "iterator = DigitIterator(-12345)\n",
        "for digit in iterator:\n",
        "    print(digit)"
      ]
    },
    {
      "cell_type": "markdown",
      "id": "524f2c81",
      "metadata": {
        "id": "524f2c81"
      },
      "source": [
        "# Итератор по файлу чанками"
      ]
    },
    {
      "cell_type": "markdown",
      "id": "b8beef88",
      "metadata": {
        "id": "b8beef88"
      },
      "source": [
        "Реализуйте класс-итератор `FileChunkIterator`, который принимает на вход путь к файлу и количество байт для чтения. Итератор должен открывать файл и считывать его содержимое блоками фиксированного размера (количества байт), переданного в качестве параметра. При каждой итерации возвращается следующий блок байт, пока не будет достигнут конец файла.\n",
        "\n",
        "**Условия:**\n",
        "1.\tИтератор должен открывать файл в режиме чтения бинарных данных (rb).\n",
        "2.\tРазмер блока (количество байт) передаётся при создании итератора.\n",
        "3.\tЕсли в конце файла остаётся блок меньшего размера, итератор должен вернуть оставшиеся байты.\n",
        "4.\tПри достижении конца файла итератор должен завершить работу, поднимая StopIteration.\n",
        "\n",
        "**Пример использования:**\n",
        "```python\n",
        "with open(\"example.txt\", \"w\") as file:\n",
        "    file.write(\"Hello world!!\")\n",
        "    \n",
        "iterator = FileChunkIterator(\"example.txt\", 2)\n",
        "for chunk in iterator:\n",
        "    print(chunk)\n",
        "# He\n",
        "# ll\n",
        "# o\n",
        "# wo\n",
        "# rl\n",
        "# d!\n",
        "# !\n",
        "```"
      ]
    },
    {
      "cell_type": "code",
      "execution_count": 22,
      "id": "60907399",
      "metadata": {
        "id": "60907399"
      },
      "outputs": [],
      "source": [
        "class FileChunkIterator:\n",
        "    def __init__(self, file_path, chunk_size):\n",
        "        self.chuck_size = chunk_size\n",
        "        self.file = open(file_path, 'rb')\n",
        "\n",
        "    def __iter__(self):\n",
        "        return self\n",
        "\n",
        "    def __next__(self):\n",
        "        result = self.file.read(self.chuck_size)\n",
        "        if result:\n",
        "            return result.decode()\n",
        "        raise StopIteration"
      ]
    },
    {
      "cell_type": "markdown",
      "id": "90806321",
      "metadata": {
        "id": "90806321"
      },
      "source": [
        "Комментарий к заданию:\n",
        "нет возможности закрыть файл, так как если в методе `__next__` при окончании чтения файла вызвать `self.file.close()`, то при следующем вызове `next` мы поймаем ошибку, отличную от `StopIteration` (это не удовлетворяет интерфейсу итератора).\n",
        "\n",
        "Я вижу в этом проблему, так как ресурс не будет освобожден."
      ]
    },
    {
      "cell_type": "code",
      "execution_count": 26,
      "id": "5869a29c",
      "metadata": {
        "id": "5869a29c"
      },
      "outputs": [],
      "source": [
        "# Реализация с закрытием файла\n",
        "class FileChunkIterator:\n",
        "    def __init__(self, file_path, chunk_size):\n",
        "        self.chuck_size = chunk_size\n",
        "        self.position = 0\n",
        "        self.file_path = file_path\n",
        "\n",
        "    def __iter__(self):\n",
        "        return self\n",
        "\n",
        "    def __next__(self):\n",
        "        with open(self.file_path, 'rb') as file:\n",
        "            file.seek(self.position)\n",
        "            result = file.read(self.chuck_size)\n",
        "            self.position += self.chuck_size\n",
        "            if result:\n",
        "                return result.decode()\n",
        "            raise StopIteration"
      ]
    },
    {
      "cell_type": "code",
      "execution_count": 27,
      "id": "536a3dbc",
      "metadata": {
        "ExecuteTime": {
          "end_time": "2024-11-03T15:39:29.153309Z",
          "start_time": "2024-11-03T15:39:29.131086Z"
        },
        "id": "536a3dbc"
      },
      "outputs": [],
      "source": [
        "with open(\"example.txt\", \"w\") as file:\n",
        "    file.write(\"Hello world!!\")"
      ]
    },
    {
      "cell_type": "code",
      "execution_count": 28,
      "id": "e70a5e61",
      "metadata": {
        "colab": {
          "base_uri": "https://localhost:8080/"
        },
        "id": "e70a5e61",
        "outputId": "45e8ea06-2730-449a-b714-99edd3d733a1"
      },
      "outputs": [
        {
          "output_type": "stream",
          "name": "stdout",
          "text": [
            "He\n",
            "ll\n",
            "o \n",
            "wo\n",
            "rl\n",
            "d!\n",
            "!\n"
          ]
        }
      ],
      "source": [
        "iterator = FileChunkIterator(\"example.txt\", 2)\n",
        "for chunk in iterator:\n",
        "    print(chunk)"
      ]
    },
    {
      "cell_type": "markdown",
      "id": "0985c955",
      "metadata": {
        "id": "0985c955"
      },
      "source": [
        "# Итератор по подматрицам"
      ]
    },
    {
      "cell_type": "markdown",
      "id": "6dacea80",
      "metadata": {
        "id": "6dacea80"
      },
      "source": [
        "Реализуйте класс-итератор `SubmatrixIterator`, который принимает на вход матрицу и размер подматрицы (квадратного блока). Итератор должен проходить по всем возможным подматрицам указанного размера и возвращать их одну за другой.\n",
        "\n",
        "**Пример использования:**\n",
        "\n",
        "```python\n",
        "matrix = [\n",
        "    [1, 2, 3, 4],\n",
        "    [5, 6, 7, 8],\n",
        "    [9, 10, 11, 12],\n",
        "    [13, 14, 15, 16]\n",
        "]\n",
        "iterator = SubmatrixIterator(matrix, 2)\n",
        "for submatrix in iterator:\n",
        "    print(submatrix)\n",
        "    \n",
        "# [[1, 2], [5, 6]]\n",
        "# [[2, 3], [6, 7]]\n",
        "# [[3, 4], [7, 8]]\n",
        "# [[5, 6], [9, 10]]\n",
        "# [[6, 7], [10, 11]]\n",
        "# [[7, 8], [11, 12]]\n",
        "# [[9, 10], [13, 14]]\n",
        "# [[10, 11], [14, 15]]\n",
        "# [[11, 12], [15, 16]]\n",
        "```"
      ]
    },
    {
      "cell_type": "code",
      "execution_count": 29,
      "id": "72631b5b",
      "metadata": {
        "id": "72631b5b"
      },
      "outputs": [],
      "source": [
        "class SubmatrixIterator:\n",
        "    def __init__(self, matrix, submatrix_size):\n",
        "        self.matrix = matrix\n",
        "        self.matrix_size = (len(matrix), len(matrix[0] if len(matrix) else 0))\n",
        "        self.submatrix_size = submatrix_size\n",
        "        self.pos = (0, 0)\n",
        "\n",
        "    def __iter__(self):\n",
        "        return self\n",
        "\n",
        "    def _is_valid_offset(self):\n",
        "        return all(self.pos[i] + self.submatrix_size <= self.matrix_size[i]\n",
        "                   for i in range(2))\n",
        "\n",
        "    def _next_position(self):\n",
        "        x, y = self.pos\n",
        "        if y + 1 + self.submatrix_size <= self.matrix_size[1]:\n",
        "            return (x, y + 1)\n",
        "        return (x + 1, 0)\n",
        "\n",
        "    def __next__(self):\n",
        "        if self._is_valid_offset():\n",
        "            i_range = range(self.pos[0], self.pos[0] + self.submatrix_size)\n",
        "            j_range = range(self.pos[1], self.pos[1] + self.submatrix_size)\n",
        "            submatrix = [[self.matrix[i][j] for j in j_range] for i in i_range]\n",
        "            self.pos = self._next_position()\n",
        "            return submatrix\n",
        "        raise StopIteration"
      ]
    },
    {
      "cell_type": "code",
      "execution_count": 30,
      "id": "b1008fa7",
      "metadata": {
        "colab": {
          "base_uri": "https://localhost:8080/"
        },
        "id": "b1008fa7",
        "outputId": "8f7ab7e0-58bb-48f5-f71c-1ed29fba2e5f"
      },
      "outputs": [
        {
          "output_type": "stream",
          "name": "stdout",
          "text": [
            "[[1, 2], [5, 6]]\n",
            "[[2, 3], [6, 7]]\n",
            "[[3, 4], [7, 8]]\n",
            "[[5, 6], [9, 10]]\n",
            "[[6, 7], [10, 11]]\n",
            "[[7, 8], [11, 12]]\n",
            "[[9, 10], [13, 14]]\n",
            "[[10, 11], [14, 15]]\n",
            "[[11, 12], [15, 16]]\n"
          ]
        }
      ],
      "source": [
        "matrix = [\n",
        "    [1, 2, 3, 4],\n",
        "    [5, 6, 7, 8],\n",
        "    [9, 10, 11, 12],\n",
        "    [13, 14, 15, 16]\n",
        "]\n",
        "iterator = SubmatrixIterator(matrix, 2)\n",
        "for submatrix in iterator:\n",
        "    print(submatrix)"
      ]
    },
    {
      "cell_type": "markdown",
      "id": "f1ad35a0",
      "metadata": {
        "ExecuteTime": {
          "end_time": "2024-11-03T14:20:40.010708Z",
          "start_time": "2024-11-03T14:20:39.997523Z"
        },
        "id": "f1ad35a0"
      },
      "source": [
        "# Построчного чтение всех файлов в директории"
      ]
    },
    {
      "cell_type": "markdown",
      "id": "ca37eddc",
      "metadata": {
        "id": "ca37eddc"
      },
      "source": [
        "Реализуйте класс-итератор  `RecursiveFileLineIteratorNoHidden`, который принимает на вход путь к директории и рекурсивно проходит по всем файлам, включая файлы во вложенных директориях. Итератор должен возвращать строки из каждого файла построчно, игнорируя файлы и директории, названия которых начинаются с точки (.), т.е. скрытые файлы и папки.\n",
        "\n",
        "**Условия:**\n",
        "1.\tИтератор должен проходить по всем файлам в указанной директории и всех её поддиректориях, кроме тех, что начинаются с точки (.).\n",
        "2.\tИтератор должен возвращать строки из каждого файла поочерёдно, построчно.\n",
        "3.\tПоддерживаются только текстовые файлы.\n",
        "4.\tПосле завершения чтения всех файлов итератор должен завершить работу, поднимая StopIteration.\n",
        "5.\tОбработайте ситуацию, если файл не может быть открыт (например, из-за ошибок доступа).\n",
        "\n",
        "**Пример использования:**\n",
        "\n",
        "```python\n",
        "iterator = RecursiveFileLineIteratorNoHidden(\"./test\")\n",
        "for line in iterator:\n",
        "    print(line)\n",
        "    \n",
        "# Example 1\n",
        "# Example 2\n",
        "# Example 3\n",
        "# Example 4\n",
        "# Subfolder Example 1\n",
        "# Subfolder Example 2\n",
        "# Subfolder Example 3\n",
        "# Subfolder Example 4    \n",
        "```\n",
        "\n",
        "Для выполнения задания потребуются несколько методов из модуля os, которые позволяют работать с файловой системой в Python. Давайте подробно рассмотрим их.\n",
        "\n",
        "\n",
        "`os.walk(top, topdown=True, onerror=None, followlinks=False)` — это генератор, который рекурсивно обходит директории и поддиректории, начиная с указанного пути top. На каждом шаге возвращается кортеж, содержащий текущую директорию, список поддиректорий и список файлов.\n",
        "\n",
        "Возвращаемые значения:\n",
        "* root: Текущая директория, в которой находимся в данный момент обхода.\n",
        "* dirs: Список поддиректорий в текущей root директории.\n",
        "* files: Список файлов в текущей root директории.\n",
        "\n",
        "`os.path.join(path, *paths)` объединяет один или несколько компонентов пути, возвращая корректный путь, соответствующий операционной системе. Это полезно для построения путей к файлам и директориям в кросс-платформенном формате.\n",
        "\n",
        "```python\n",
        "root = \"/path/to/directory\"\n",
        "file_name = \"example.txt\"\n",
        "full_path = os.path.join(root, file_name)\n",
        "print(full_path)  # Вывод: \"/path/to/directory/example.txt\"\n",
        "```\n",
        "\n",
        "`os.path.isfile(path)` проверяет, является ли указанный путь файлом. Возвращает True, если path указывает на файл, и False, если это директория или объект другого типа.\n",
        "\n",
        "```python\n",
        "file_path = \"/path/to/file.txt\"\n",
        "if os.path.isfile(file_path):\n",
        "    print(\"Это файл.\")\n",
        "else:\n",
        "    print(\"Это не файл.\")\n",
        "```\n",
        "\n",
        "`os.path.basename(path)` возвращает базовое имя файла или директории из пути. Это полезно, если нужно получить только имя файла или папки, без остальных компонентов пути.\n",
        "\n",
        "```python\n",
        "file_path = \"/path/to/file.txt\"\n",
        "print(os.path.basename(file_path))  # Вывод: \"file.txt\"\n",
        "```\n",
        "\n",
        "`os.path.isdir(path)` проверяет, является ли указанный путь директорией. Возвращает True, если path указывает на директорию, и False, если это файл или объект другого типа.\n",
        "\n",
        "```python\n",
        "dir_path = \"/path/to/directory\"\n",
        "if os.path.isdir(dir_path):\n",
        "    print(\"Это директория.\")\n",
        "else:\n",
        "    print(\"Это не директория.\")\n",
        "```"
      ]
    },
    {
      "cell_type": "code",
      "execution_count": 31,
      "id": "cccfe52c",
      "metadata": {
        "ExecuteTime": {
          "end_time": "2024-11-03T14:45:18.219426Z",
          "start_time": "2024-11-03T14:45:18.206870Z"
        },
        "id": "cccfe52c"
      },
      "outputs": [],
      "source": [
        "import os\n",
        "\n",
        "\n",
        "class RecursiveFileLineIteratorNoHidden:\n",
        "    def __init__(self, root):\n",
        "        self.current_file = None\n",
        "        self.queue = []\n",
        "        self._collect_files(root)\n",
        "        self.queue.reverse()\n",
        "\n",
        "    def __iter__(self):\n",
        "        return self\n",
        "\n",
        "    def _collect_files(self, root):\n",
        "        for current, subfolders, files in os.walk(root):\n",
        "            subfolders[:] = [folder for folder in subfolders\n",
        "                             if not folder.startswith('.')]\n",
        "            for filename in files:\n",
        "                if not filename.startswith('.'):\n",
        "                    self.queue.append(os.path.join(current, filename))\n",
        "\n",
        "    def _close_current_file(self):\n",
        "        self.current_file.close()\n",
        "        self.current_file = None\n",
        "\n",
        "    def __next__(self):\n",
        "        while True:\n",
        "            if not self.current_file:\n",
        "                if self.queue:\n",
        "                    try:\n",
        "                        self.current_file = open(self.queue.pop(), 'r')\n",
        "                    except OSError:\n",
        "                        continue\n",
        "                else:\n",
        "                    raise StopIteration\n",
        "\n",
        "            try:\n",
        "                result = self.current_file.readline()\n",
        "                if not result:\n",
        "                    self._close_current_file()\n",
        "                else:\n",
        "                    return result.strip('\\n')\n",
        "            except IOError:\n",
        "                self._close_current_file()"
      ]
    },
    {
      "cell_type": "code",
      "execution_count": 32,
      "id": "c4f7bdbd",
      "metadata": {
        "id": "c4f7bdbd"
      },
      "outputs": [],
      "source": [
        "iterator = RecursiveFileLineIteratorNoHidden(\"./test\")\n",
        "for line in iterator:\n",
        "    print(line)"
      ]
    }
  ],
  "metadata": {
    "kernelspec": {
      "display_name": "Python 3",
      "language": "python",
      "name": "python3"
    },
    "language_info": {
      "codemirror_mode": {
        "name": "ipython",
        "version": 3
      },
      "file_extension": ".py",
      "mimetype": "text/x-python",
      "name": "python",
      "nbconvert_exporter": "python",
      "pygments_lexer": "ipython3",
      "version": "3.9.6"
    },
    "colab": {
      "provenance": []
    }
  },
  "nbformat": 4,
  "nbformat_minor": 5
}